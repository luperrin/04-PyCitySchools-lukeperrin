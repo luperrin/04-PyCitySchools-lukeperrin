{
 "cells": [
  {
   "cell_type": "code",
   "execution_count": 2,
   "outputs": [
    {
     "name": "stderr",
     "output_type": "stream",
     "text": [
      "/var/folders/x9/d6jk0sqn1yb_79h50c2zbns80000gn/T/ipykernel_23646/1408560127.py:18: FutureWarning: The default value of regex will change from True to False in a future version.\n",
      "  student_data_df[\"student_name\"] = student_data_df[\"student_name\"].str.replace(word, \"\")\n"
     ]
    },
    {
     "data": {
      "text/plain": "   Student ID     student_name gender grade        school_name  reading_score  \\\n0           0     Paul Bradley      M   9th  Huang High School             66   \n1           1     Victor Smith      M  12th  Huang High School             94   \n2           2  Kevin Rodriguez      M  12th  Huang High School             90   \n3           3    Richard Scott      M  12th  Huang High School             67   \n4           4       Bonnie Ray      F   9th  Huang High School             97   \n5           5    Bryan Miranda      M   9th  Huang High School             94   \n6           6    Sheena Carter      F  11th  Huang High School             82   \n7           7     Nicole Baker      F  12th  Huang High School             96   \n8           8     Michael Roth      M  10th  Huang High School             95   \n9           9   Matthew Greene      M  10th  Huang High School             96   \n\n   math_score  \n0          79  \n1          61  \n2          60  \n3          58  \n4          84  \n5          94  \n6          80  \n7          69  \n8          87  \n9          84  ",
      "text/html": "<div>\n<style scoped>\n    .dataframe tbody tr th:only-of-type {\n        vertical-align: middle;\n    }\n\n    .dataframe tbody tr th {\n        vertical-align: top;\n    }\n\n    .dataframe thead th {\n        text-align: right;\n    }\n</style>\n<table border=\"1\" class=\"dataframe\">\n  <thead>\n    <tr style=\"text-align: right;\">\n      <th></th>\n      <th>Student ID</th>\n      <th>student_name</th>\n      <th>gender</th>\n      <th>grade</th>\n      <th>school_name</th>\n      <th>reading_score</th>\n      <th>math_score</th>\n    </tr>\n  </thead>\n  <tbody>\n    <tr>\n      <th>0</th>\n      <td>0</td>\n      <td>Paul Bradley</td>\n      <td>M</td>\n      <td>9th</td>\n      <td>Huang High School</td>\n      <td>66</td>\n      <td>79</td>\n    </tr>\n    <tr>\n      <th>1</th>\n      <td>1</td>\n      <td>Victor Smith</td>\n      <td>M</td>\n      <td>12th</td>\n      <td>Huang High School</td>\n      <td>94</td>\n      <td>61</td>\n    </tr>\n    <tr>\n      <th>2</th>\n      <td>2</td>\n      <td>Kevin Rodriguez</td>\n      <td>M</td>\n      <td>12th</td>\n      <td>Huang High School</td>\n      <td>90</td>\n      <td>60</td>\n    </tr>\n    <tr>\n      <th>3</th>\n      <td>3</td>\n      <td>Richard Scott</td>\n      <td>M</td>\n      <td>12th</td>\n      <td>Huang High School</td>\n      <td>67</td>\n      <td>58</td>\n    </tr>\n    <tr>\n      <th>4</th>\n      <td>4</td>\n      <td>Bonnie Ray</td>\n      <td>F</td>\n      <td>9th</td>\n      <td>Huang High School</td>\n      <td>97</td>\n      <td>84</td>\n    </tr>\n    <tr>\n      <th>5</th>\n      <td>5</td>\n      <td>Bryan Miranda</td>\n      <td>M</td>\n      <td>9th</td>\n      <td>Huang High School</td>\n      <td>94</td>\n      <td>94</td>\n    </tr>\n    <tr>\n      <th>6</th>\n      <td>6</td>\n      <td>Sheena Carter</td>\n      <td>F</td>\n      <td>11th</td>\n      <td>Huang High School</td>\n      <td>82</td>\n      <td>80</td>\n    </tr>\n    <tr>\n      <th>7</th>\n      <td>7</td>\n      <td>Nicole Baker</td>\n      <td>F</td>\n      <td>12th</td>\n      <td>Huang High School</td>\n      <td>96</td>\n      <td>69</td>\n    </tr>\n    <tr>\n      <th>8</th>\n      <td>8</td>\n      <td>Michael Roth</td>\n      <td>M</td>\n      <td>10th</td>\n      <td>Huang High School</td>\n      <td>95</td>\n      <td>87</td>\n    </tr>\n    <tr>\n      <th>9</th>\n      <td>9</td>\n      <td>Matthew Greene</td>\n      <td>M</td>\n      <td>10th</td>\n      <td>Huang High School</td>\n      <td>96</td>\n      <td>84</td>\n    </tr>\n  </tbody>\n</table>\n</div>"
     },
     "execution_count": 2,
     "metadata": {},
     "output_type": "execute_result"
    }
   ],
   "source": [
    "\n",
    "# Add the Pandas dependency.\n",
    "import pandas as pd\n",
    "\n",
    "# # File to Load (Remember to change the path if needed.)\n",
    "school_data_to_load = \"Resources/schools_complete.csv\"\n",
    "student_data_to_load = \"Resources/students_complete.csv\"\n",
    "\n",
    "# Read the School Data and Student Data and store into a Pandas DataFrame\n",
    "school_data_df = pd.read_csv(school_data_to_load)\n",
    "student_data_df = pd.read_csv(student_data_to_load)\n",
    "\n",
    "# Cleaning Student Names and Replacing Substrings in a Python String\n",
    "# Add each prefix and suffix to remove to a list.\n",
    "prefixes_suffixes = [\"Dr. \", \"Mr. \", \"Ms. \", \"Mrs. \", \"Miss \", \" MD\", \" DDS\", \" DVM\", \" PhD\"]\n",
    "\n",
    "# Iterate through the words in the \"prefixes_suffixes\" list and replace them with an empty space, \"\".\n",
    "for word in prefixes_suffixes:\n",
    "    student_data_df[\"student_name\"] = student_data_df[\"student_name\"].str.replace(word, \"\")\n",
    "\n",
    "# Check names.\n",
    "student_data_df.head(10)"
   ],
   "metadata": {
    "collapsed": false,
    "pycharm": {
     "name": "#%%\n"
    }
   }
  },
  {
   "cell_type": "markdown",
   "source": [
    "# Deliverable 1: Replace the reading and math scores.\n",
    "\n",
    "### Replace the 9th grade reading and math scores at Thomas High School with NaN."
   ],
   "metadata": {
    "collapsed": false
   }
  },
  {
   "cell_type": "code",
   "execution_count": 3,
   "outputs": [
    {
     "data": {
      "text/plain": "Student ID         0\nstudent_name       0\ngender             0\ngrade              0\nschool_name        0\nreading_score    461\nmath_score       461\ndtype: int64"
     },
     "execution_count": 3,
     "metadata": {},
     "output_type": "execute_result"
    }
   ],
   "source": [
    "# Install numpy using conda install numpy or pip install numpy.\n",
    "# Step 1. Import numpy as np.\n",
    "import numpy as np\n",
    "\n",
    "# Step 2. Use the loc method on the student_data_df to select all the reading scores from the 9th grade at Thomas High School and replace them with NaN.\n",
    "orig_student_data_df = student_data_df\n",
    "\n",
    "student_data_df.loc[(student_data_df[\"grade\"] == \"9th\") & (student_data_df[\"school_name\"] == \"Thomas High School\"), 'math_score'] = np.nan\n",
    "\n",
    "#  Step 3. Refactor the code in Step 2 to replace the math scores with NaN.\n",
    "student_data_df.loc[(student_data_df[\"grade\"] == \"9th\") & (student_data_df[\"school_name\"] == \"Thomas High School\"), 'reading_score'] = np.nan\n",
    "\n",
    "#  Step 4. Check the student data for NaN's.\n",
    "student_data_df.isnull()\n",
    "student_data_df.isnull().sum()"
   ],
   "metadata": {
    "collapsed": false,
    "pycharm": {
     "name": "#%%\n"
    }
   }
  },
  {
   "cell_type": "markdown",
   "source": [
    "# Deliverable 2 : Repeat the school district analysis\n",
    "## District Summary"
   ],
   "metadata": {
    "collapsed": false
   }
  },
  {
   "cell_type": "code",
   "execution_count": 5,
   "outputs": [],
   "source": [
    "# Combine the data into a single dataset\n",
    "school_data_complete_df = pd.merge(student_data_df, school_data_df, how=\"left\", on=[\"school_name\", \"school_name\"])\n",
    "school_data_complete_df.head()\n",
    "# Calculate the Totals (Schools and Students)\n",
    "school_count = len(school_data_complete_df[\"school_name\"].unique())\n",
    "student_count = school_data_complete_df[\"Student ID\"].count()\n",
    "\n",
    "# Calculate the Total Budget\n",
    "total_budget = school_data_df[\"budget\"].sum()\n",
    "\n",
    "# Calculate the Average Scores using the \"clean_student_data\".\n",
    "average_reading_score = school_data_complete_df[\"reading_score\"].mean()\n",
    "average_math_score = school_data_complete_df[\"math_score\"].mean()"
   ],
   "metadata": {
    "collapsed": false,
    "pycharm": {
     "name": "#%%\n"
    }
   }
  },
  {
   "cell_type": "code",
   "execution_count": 7,
   "outputs": [
    {
     "data": {
      "text/plain": "461"
     },
     "execution_count": 7,
     "metadata": {},
     "output_type": "execute_result"
    }
   ],
   "source": [
    "# Step 1. Get the number of students that are in ninth grade at Thomas High School.\n",
    "# These students have no grades.\n",
    "THS_9thgraders_count = school_data_complete_df['reading_score'].isnull().sum()\n",
    "THS_9thgraders_count"
   ],
   "metadata": {
    "collapsed": false,
    "pycharm": {
     "name": "#%%\n"
    }
   }
  },
  {
   "cell_type": "code",
   "execution_count": 8,
   "outputs": [
    {
     "data": {
      "text/plain": "39170"
     },
     "execution_count": 8,
     "metadata": {},
     "output_type": "execute_result"
    }
   ],
   "source": [
    "# Get the total student count\n",
    "student_count"
   ],
   "metadata": {
    "collapsed": false,
    "pycharm": {
     "name": "#%%\n"
    }
   }
  },
  {
   "cell_type": "code",
   "execution_count": 11,
   "outputs": [
    {
     "data": {
      "text/plain": "   Total Schools Total Students    Total Budget Average Math Score  \\\n0             15         39,170  $24,649,428.00               78.9   \n\n  Average Reading Score % Passing Math % Passing Reading % Overall Passing  \n0                  81.9           74.8              85.7              64.9  ",
      "text/html": "<div>\n<style scoped>\n    .dataframe tbody tr th:only-of-type {\n        vertical-align: middle;\n    }\n\n    .dataframe tbody tr th {\n        vertical-align: top;\n    }\n\n    .dataframe thead th {\n        text-align: right;\n    }\n</style>\n<table border=\"1\" class=\"dataframe\">\n  <thead>\n    <tr style=\"text-align: right;\">\n      <th></th>\n      <th>Total Schools</th>\n      <th>Total Students</th>\n      <th>Total Budget</th>\n      <th>Average Math Score</th>\n      <th>Average Reading Score</th>\n      <th>% Passing Math</th>\n      <th>% Passing Reading</th>\n      <th>% Overall Passing</th>\n    </tr>\n  </thead>\n  <tbody>\n    <tr>\n      <th>0</th>\n      <td>15</td>\n      <td>39,170</td>\n      <td>$24,649,428.00</td>\n      <td>78.9</td>\n      <td>81.9</td>\n      <td>74.8</td>\n      <td>85.7</td>\n      <td>64.9</td>\n    </tr>\n  </tbody>\n</table>\n</div>"
     },
     "execution_count": 11,
     "metadata": {},
     "output_type": "execute_result"
    }
   ],
   "source": [
    "# Step 2. Subtract the number of students that are in ninth grade at\n",
    "# Thomas High School from the total student count to get the new total student count.\n",
    "THS_non9thgraders_count = student_count - THS_9thgraders_count\n",
    "\n",
    "# Calculate the passing rates using the \"clean_student_data\".\n",
    "passing_math_count = school_data_complete_df[(school_data_complete_df[\"math_score\"] >= 70)].count()[\"student_name\"]\n",
    "passing_reading_count = school_data_complete_df[(school_data_complete_df[\"reading_score\"] >= 70)].count()[\n",
    "    \"student_name\"]\n",
    "\n",
    "# Step 3. Calculate the passing percentages with the new total student count.\n",
    "passing_math_THS_non9thgraders_percent = (passing_math_count/THS_non9thgraders_count)*100\n",
    "passing_reading_THS_non9thgraders_percent = (passing_reading_count/THS_non9thgraders_count)*100\n",
    "\n",
    "# Calculate the students who passed both reading and math.\n",
    "passing_math_reading = school_data_complete_df[(school_data_complete_df[\"math_score\"] >= 70) & (school_data_complete_df[\"reading_score\"] >= 70)]\n",
    "\n",
    "# Calculate the number of students that passed both reading and math.\n",
    "overall_passing_math_reading_count = passing_math_reading[\"student_name\"].count()\n",
    "\n",
    "# Step 4.Calculate the overall passing percentage with new total student count.\n",
    "overall_passing_THS_non9thgraders_percent = (overall_passing_math_reading_count/THS_non9thgraders_count)*100\n",
    "\n",
    "# Create a DataFrame\n",
    "new_district_summary_df = pd.DataFrame(\n",
    "    [{\"Total Schools\": school_count,\n",
    "      \"Total Students\": student_count,\n",
    "      \"Total Budget\": total_budget,\n",
    "      \"Average Math Score\": average_math_score,\n",
    "      \"Average Reading Score\": average_reading_score,\n",
    "      \"% Passing Math\": passing_math_THS_non9thgraders_percent,\n",
    "      \"% Passing Reading\": passing_reading_THS_non9thgraders_percent,\n",
    "      \"% Overall Passing\": overall_passing_THS_non9thgraders_percent}])\n",
    "\n",
    "# Format the \"Total Students\" to have the comma for a thousands separator.\n",
    "new_district_summary_df[\"Total Students\"] = new_district_summary_df[\"Total Students\"].map(\"{:,}\".format)\n",
    "\n",
    "# Format the \"Total Budget\" to have the comma for a thousands separator, a decimal separator and a \"$\".\n",
    "new_district_summary_df[\"Total Budget\"] = new_district_summary_df[\"Total Budget\"].map(\"${:,.2f}\".format)\n",
    "\n",
    "# Format the columns.\n",
    "new_district_summary_df[\"Average Math Score\"] = new_district_summary_df[\"Average Math Score\"].map(\"{:.1f}\".format)\n",
    "new_district_summary_df[\"Average Reading Score\"] = new_district_summary_df[\"Average Reading Score\"].map(\"{:.1f}\".format)\n",
    "new_district_summary_df[\"% Passing Math\"] = new_district_summary_df[\"% Passing Math\"].map(\"{:.1f}\".format)\n",
    "new_district_summary_df[\"% Passing Reading\"] = new_district_summary_df[\"% Passing Reading\"].map(\"{:.1f}\".format)\n",
    "new_district_summary_df[\"% Overall Passing\"] = new_district_summary_df[\"% Overall Passing\"].map(\"{:.1f}\".format)\n",
    "\n",
    "# Display the data frame\n",
    "new_district_summary_df"
   ],
   "metadata": {
    "collapsed": false,
    "pycharm": {
     "name": "#%%\n"
    }
   }
  },
  {
   "cell_type": "markdown",
   "source": [
    "##  School Summary"
   ],
   "metadata": {
    "collapsed": false
   }
  },
  {
   "cell_type": "code",
   "execution_count": 12,
   "outputs": [
    {
     "data": {
      "text/plain": "                      School Type  Total Students Total School Budget  \\\nBailey High School       District            4976       $3,124,928.00   \nCabrera High School       Charter            1858       $1,081,356.00   \nFigueroa High School     District            2949       $1,884,411.00   \nFord High School         District            2739       $1,763,916.00   \nGriffin High School       Charter            1468         $917,500.00   \nHernandez High School    District            4635       $3,022,020.00   \nHolden High School        Charter             427         $248,087.00   \nHuang High School        District            2917       $1,910,635.00   \nJohnson High School      District            4761       $3,094,650.00   \nPena High School          Charter             962         $585,858.00   \nRodriguez High School    District            3999       $2,547,363.00   \nShelton High School       Charter            1761       $1,056,600.00   \nThomas High School        Charter            1635       $1,043,130.00   \nWilson High School        Charter            2283       $1,319,574.00   \nWright High School        Charter            1800       $1,049,400.00   \n\n                      Per Student Budget  Average Math Score  \\\nBailey High School               $628.00           77.048432   \nCabrera High School              $582.00           83.061895   \nFigueroa High School             $639.00           76.711767   \nFord High School                 $644.00           77.102592   \nGriffin High School              $625.00           83.351499   \nHernandez High School            $652.00           77.289752   \nHolden High School               $581.00           83.803279   \nHuang High School                $655.00           76.629414   \nJohnson High School              $650.00           77.072464   \nPena High School                 $609.00           83.839917   \nRodriguez High School            $637.00           76.842711   \nShelton High School              $600.00           83.359455   \nThomas High School               $638.00           83.350937   \nWilson High School               $578.00           83.274201   \nWright High School               $583.00           83.682222   \n\n                       Average Reading Score  % Passing Math  \\\nBailey High School                 81.033963       66.680064   \nCabrera High School                83.975780       94.133477   \nFigueroa High School               81.158020       65.988471   \nFord High School                   80.746258       68.309602   \nGriffin High School                83.816757       93.392371   \nHernandez High School              80.934412       66.752967   \nHolden High School                 83.814988       92.505855   \nHuang High School                  81.182722       65.683922   \nJohnson High School                80.966394       66.057551   \nPena High School                   84.044699       94.594595   \nRodriguez High School              80.744686       66.366592   \nShelton High School                83.725724       93.867121   \nThomas High School                 83.896082       66.911315   \nWilson High School                 83.989488       93.867718   \nWright High School                 83.955000       93.333333   \n\n                       % Passing Reading  % Overall Passing  \nBailey High School             81.933280          54.642283  \nCabrera High School            97.039828          91.334769  \nFigueroa High School           80.739234          53.204476  \nFord High School               79.299014          54.289887  \nGriffin High School            97.138965          90.599455  \nHernandez High School          80.862999          53.527508  \nHolden High School             96.252927          89.227166  \nHuang High School              81.316421          53.513884  \nJohnson High School            81.222432          53.539172  \nPena High School               95.945946          90.540541  \nRodriguez High School          80.220055          52.988247  \nShelton High School            95.854628          89.892107  \nThomas High School             69.663609          65.076453  \nWilson High School             96.539641          90.582567  \nWright High School             96.611111          90.333333  ",
      "text/html": "<div>\n<style scoped>\n    .dataframe tbody tr th:only-of-type {\n        vertical-align: middle;\n    }\n\n    .dataframe tbody tr th {\n        vertical-align: top;\n    }\n\n    .dataframe thead th {\n        text-align: right;\n    }\n</style>\n<table border=\"1\" class=\"dataframe\">\n  <thead>\n    <tr style=\"text-align: right;\">\n      <th></th>\n      <th>School Type</th>\n      <th>Total Students</th>\n      <th>Total School Budget</th>\n      <th>Per Student Budget</th>\n      <th>Average Math Score</th>\n      <th>Average Reading Score</th>\n      <th>% Passing Math</th>\n      <th>% Passing Reading</th>\n      <th>% Overall Passing</th>\n    </tr>\n  </thead>\n  <tbody>\n    <tr>\n      <th>Bailey High School</th>\n      <td>District</td>\n      <td>4976</td>\n      <td>$3,124,928.00</td>\n      <td>$628.00</td>\n      <td>77.048432</td>\n      <td>81.033963</td>\n      <td>66.680064</td>\n      <td>81.933280</td>\n      <td>54.642283</td>\n    </tr>\n    <tr>\n      <th>Cabrera High School</th>\n      <td>Charter</td>\n      <td>1858</td>\n      <td>$1,081,356.00</td>\n      <td>$582.00</td>\n      <td>83.061895</td>\n      <td>83.975780</td>\n      <td>94.133477</td>\n      <td>97.039828</td>\n      <td>91.334769</td>\n    </tr>\n    <tr>\n      <th>Figueroa High School</th>\n      <td>District</td>\n      <td>2949</td>\n      <td>$1,884,411.00</td>\n      <td>$639.00</td>\n      <td>76.711767</td>\n      <td>81.158020</td>\n      <td>65.988471</td>\n      <td>80.739234</td>\n      <td>53.204476</td>\n    </tr>\n    <tr>\n      <th>Ford High School</th>\n      <td>District</td>\n      <td>2739</td>\n      <td>$1,763,916.00</td>\n      <td>$644.00</td>\n      <td>77.102592</td>\n      <td>80.746258</td>\n      <td>68.309602</td>\n      <td>79.299014</td>\n      <td>54.289887</td>\n    </tr>\n    <tr>\n      <th>Griffin High School</th>\n      <td>Charter</td>\n      <td>1468</td>\n      <td>$917,500.00</td>\n      <td>$625.00</td>\n      <td>83.351499</td>\n      <td>83.816757</td>\n      <td>93.392371</td>\n      <td>97.138965</td>\n      <td>90.599455</td>\n    </tr>\n    <tr>\n      <th>Hernandez High School</th>\n      <td>District</td>\n      <td>4635</td>\n      <td>$3,022,020.00</td>\n      <td>$652.00</td>\n      <td>77.289752</td>\n      <td>80.934412</td>\n      <td>66.752967</td>\n      <td>80.862999</td>\n      <td>53.527508</td>\n    </tr>\n    <tr>\n      <th>Holden High School</th>\n      <td>Charter</td>\n      <td>427</td>\n      <td>$248,087.00</td>\n      <td>$581.00</td>\n      <td>83.803279</td>\n      <td>83.814988</td>\n      <td>92.505855</td>\n      <td>96.252927</td>\n      <td>89.227166</td>\n    </tr>\n    <tr>\n      <th>Huang High School</th>\n      <td>District</td>\n      <td>2917</td>\n      <td>$1,910,635.00</td>\n      <td>$655.00</td>\n      <td>76.629414</td>\n      <td>81.182722</td>\n      <td>65.683922</td>\n      <td>81.316421</td>\n      <td>53.513884</td>\n    </tr>\n    <tr>\n      <th>Johnson High School</th>\n      <td>District</td>\n      <td>4761</td>\n      <td>$3,094,650.00</td>\n      <td>$650.00</td>\n      <td>77.072464</td>\n      <td>80.966394</td>\n      <td>66.057551</td>\n      <td>81.222432</td>\n      <td>53.539172</td>\n    </tr>\n    <tr>\n      <th>Pena High School</th>\n      <td>Charter</td>\n      <td>962</td>\n      <td>$585,858.00</td>\n      <td>$609.00</td>\n      <td>83.839917</td>\n      <td>84.044699</td>\n      <td>94.594595</td>\n      <td>95.945946</td>\n      <td>90.540541</td>\n    </tr>\n    <tr>\n      <th>Rodriguez High School</th>\n      <td>District</td>\n      <td>3999</td>\n      <td>$2,547,363.00</td>\n      <td>$637.00</td>\n      <td>76.842711</td>\n      <td>80.744686</td>\n      <td>66.366592</td>\n      <td>80.220055</td>\n      <td>52.988247</td>\n    </tr>\n    <tr>\n      <th>Shelton High School</th>\n      <td>Charter</td>\n      <td>1761</td>\n      <td>$1,056,600.00</td>\n      <td>$600.00</td>\n      <td>83.359455</td>\n      <td>83.725724</td>\n      <td>93.867121</td>\n      <td>95.854628</td>\n      <td>89.892107</td>\n    </tr>\n    <tr>\n      <th>Thomas High School</th>\n      <td>Charter</td>\n      <td>1635</td>\n      <td>$1,043,130.00</td>\n      <td>$638.00</td>\n      <td>83.350937</td>\n      <td>83.896082</td>\n      <td>66.911315</td>\n      <td>69.663609</td>\n      <td>65.076453</td>\n    </tr>\n    <tr>\n      <th>Wilson High School</th>\n      <td>Charter</td>\n      <td>2283</td>\n      <td>$1,319,574.00</td>\n      <td>$578.00</td>\n      <td>83.274201</td>\n      <td>83.989488</td>\n      <td>93.867718</td>\n      <td>96.539641</td>\n      <td>90.582567</td>\n    </tr>\n    <tr>\n      <th>Wright High School</th>\n      <td>Charter</td>\n      <td>1800</td>\n      <td>$1,049,400.00</td>\n      <td>$583.00</td>\n      <td>83.682222</td>\n      <td>83.955000</td>\n      <td>93.333333</td>\n      <td>96.611111</td>\n      <td>90.333333</td>\n    </tr>\n  </tbody>\n</table>\n</div>"
     },
     "execution_count": 12,
     "metadata": {},
     "output_type": "execute_result"
    }
   ],
   "source": [
    "# Determine the School Type\n",
    "per_school_types = school_data_df.set_index([\"school_name\"])[\"type\"]\n",
    "\n",
    "# Calculate the total student count.\n",
    "per_school_counts = school_data_complete_df[\"school_name\"].value_counts()\n",
    "\n",
    "# Calculate the total school budget and per capita spending\n",
    "per_school_budget = school_data_complete_df.groupby([\"school_name\"]).mean()[\"budget\"]\n",
    "\n",
    "# Calculate the per capita spending.\n",
    "per_school_capita = per_school_budget / per_school_counts\n",
    "\n",
    "# Calculate the average test scores.\n",
    "per_school_math = school_data_complete_df.groupby([\"school_name\"]).mean()[\"math_score\"]\n",
    "per_school_reading = school_data_complete_df.groupby([\"school_name\"]).mean()[\"reading_score\"]\n",
    "\n",
    "# Calculate the passing scores by creating a filtered DataFrame.\n",
    "per_school_passing_math = school_data_complete_df[(school_data_complete_df[\"math_score\"] >= 70)]\n",
    "per_school_passing_reading = school_data_complete_df[(school_data_complete_df[\"reading_score\"] >= 70)]\n",
    "\n",
    "# Calculate the number of students passing math and passing reading by school.\n",
    "per_school_passing_math = per_school_passing_math.groupby([\"school_name\"]).count()[\"student_name\"]\n",
    "per_school_passing_reading = per_school_passing_reading.groupby([\"school_name\"]).count()[\"student_name\"]\n",
    "\n",
    "# Calculate the percentage of passing math and reading scores per school.\n",
    "per_school_passing_math = per_school_passing_math / per_school_counts * 100\n",
    "per_school_passing_reading = per_school_passing_reading / per_school_counts * 100\n",
    "\n",
    "# Calculate the students who passed both reading and math.\n",
    "per_passing_math_reading = school_data_complete_df[(school_data_complete_df[\"reading_score\"] >= 70) & (school_data_complete_df[\"math_score\"] >= 70)]\n",
    "\n",
    "# Calculate the number of students passing math and passing reading by school.\n",
    "per_passing_math_reading = per_passing_math_reading.groupby([\"school_name\"]).count()[\"student_name\"]\n",
    "\n",
    "# Calculate the percentage of passing math and reading scores per school.\n",
    "per_overall_passing_percentage = per_passing_math_reading / per_school_counts * 100\n",
    "\n",
    "# Create the DataFrame\n",
    "per_school_summary_df = pd.DataFrame({\n",
    "    \"School Type\": per_school_types,\n",
    "    \"Total Students\": per_school_counts,\n",
    "    \"Total School Budget\": per_school_budget,\n",
    "    \"Per Student Budget\": per_school_capita,\n",
    "    \"Average Math Score\": per_school_math,\n",
    "    \"Average Reading Score\": per_school_reading,\n",
    "    \"% Passing Math\": per_school_passing_math,\n",
    "    \"% Passing Reading\": per_school_passing_reading,\n",
    "    \"% Overall Passing\": per_overall_passing_percentage})\n",
    "\n",
    "# Format the Total School Budget and the Per Student Budget\n",
    "per_school_summary_df[\"Total School Budget\"] = per_school_summary_df[\"Total School Budget\"].map(\"${:,.2f}\".format)\n",
    "per_school_summary_df[\"Per Student Budget\"] = per_school_summary_df[\"Per Student Budget\"].map(\"${:,.2f}\".format)\n",
    "\n",
    "# Display the data frame\n",
    "per_school_summary_df"
   ],
   "metadata": {
    "collapsed": false,
    "pycharm": {
     "name": "#%%\n"
    }
   }
  },
  {
   "cell_type": "code",
   "execution_count": 13,
   "outputs": [
    {
     "data": {
      "text/plain": "38709"
     },
     "execution_count": 13,
     "metadata": {},
     "output_type": "execute_result"
    }
   ],
   "source": [
    "# Step 5. Get the number of 10th-12th graders from Thomas High School (THS).\n",
    "THS_non9thgraders_count"
   ],
   "metadata": {
    "collapsed": false,
    "pycharm": {
     "name": "#%%\n"
    }
   }
  },
  {
   "cell_type": "code",
   "execution_count": 14,
   "outputs": [
    {
     "data": {
      "text/plain": "1094"
     },
     "execution_count": 14,
     "metadata": {},
     "output_type": "execute_result"
    }
   ],
   "source": [
    "# Step 6. Get all the students passing math from THS\n",
    "math_passing_from_THS = student_data_df.loc[(student_data_df[\"math_score\"] >= 70) & (student_data_df[\"school_name\"] == \"Thomas High School\"), 'student_name'].tolist()\n",
    "len(math_passing_from_THS)"
   ],
   "metadata": {
    "collapsed": false,
    "pycharm": {
     "name": "#%%\n"
    }
   }
  },
  {
   "cell_type": "code",
   "execution_count": 15,
   "outputs": [
    {
     "data": {
      "text/plain": "1139"
     },
     "execution_count": 15,
     "metadata": {},
     "output_type": "execute_result"
    }
   ],
   "source": [
    "# Step 7. Get all the students passing reading from THS\n",
    "reading_passing_from_THS = student_data_df.loc[(student_data_df[\"reading_score\"] >= 70) & (student_data_df[\"school_name\"] == \"Thomas High School\"), 'student_name'].tolist()\n",
    "len(reading_passing_from_THS)"
   ],
   "metadata": {
    "collapsed": false,
    "pycharm": {
     "name": "#%%\n"
    }
   }
  },
  {
   "cell_type": "code",
   "execution_count": 16,
   "outputs": [
    {
     "data": {
      "text/plain": "1064"
     },
     "execution_count": 16,
     "metadata": {},
     "output_type": "execute_result"
    }
   ],
   "source": [
    "# Step 8. Get all the students passing math and reading from THS\n",
    "overall_passing_from_THS = student_data_df.loc[(student_data_df[\"math_score\"] >= 70) & (student_data_df[\"reading_score\"] >= 70) & (student_data_df[\"school_name\"] == \"Thomas High School\"), 'student_name'].tolist()\n",
    "\n",
    "len(overall_passing_from_THS)"
   ],
   "metadata": {
    "collapsed": false,
    "pycharm": {
     "name": "#%%\n"
    }
   }
  },
  {
   "cell_type": "code",
   "execution_count": 17,
   "outputs": [
    {
     "data": {
      "text/plain": "2.826216125448862"
     },
     "execution_count": 17,
     "metadata": {},
     "output_type": "execute_result"
    }
   ],
   "source": [
    "# Step 9. Calculate the percentage of 10th-12th grade students passing math from Thomas High School.\n",
    "math_passing_from_THS_non9thgraders_percent = (len(math_passing_from_THS)/THS_non9thgraders_count)*100\n",
    "math_passing_from_THS_non9thgraders_percent\n"
   ],
   "metadata": {
    "collapsed": false,
    "pycharm": {
     "name": "#%%\n"
    }
   }
  },
  {
   "cell_type": "code",
   "execution_count": 13,
   "outputs": [
    {
     "data": {
      "text/plain": "2.942468159859464"
     },
     "execution_count": 13,
     "metadata": {},
     "output_type": "execute_result"
    }
   ],
   "source": [
    "# Step 10. Calculate the percentage of 10th-12th grade students passing reading from Thomas High School.\n",
    "reading_passing_from_THS_non9thgraders_percent = (len(reading_passing_from_THS)/THS_non9thgraders_count)*100\n",
    "reading_passing_from_THS_non9thgraders_percent"
   ],
   "metadata": {
    "collapsed": false,
    "pycharm": {
     "name": "#%%\n"
    }
   }
  },
  {
   "cell_type": "code",
   "execution_count": 14,
   "outputs": [
    {
     "data": {
      "text/plain": "2.7487147691751272"
     },
     "execution_count": 14,
     "metadata": {},
     "output_type": "execute_result"
    }
   ],
   "source": [
    "# Step 11. Calculate the overall passing percentage of 10th-12th grade from Thomas High School.\n",
    "overall_passing_from_THS_non9thgraders_percent = (len(overall_passing_from_THS)/THS_non9thgraders_count)*100\n",
    "overall_passing_from_THS_non9thgraders_percent"
   ],
   "metadata": {
    "collapsed": false,
    "pycharm": {
     "name": "#%%\n"
    }
   }
  },
  {
   "cell_type": "code",
   "execution_count": 15,
   "outputs": [],
   "source": [
    "# Step 12. Replace the passing math percent for Thomas High School in the per_school_summary_df.\n",
    "per_school_summary_df.at['Thomas High School', '% Passing Math'] = math_passing_from_THS_non9thgraders_percent"
   ],
   "metadata": {
    "collapsed": false,
    "pycharm": {
     "name": "#%%\n"
    }
   }
  },
  {
   "cell_type": "code",
   "execution_count": 16,
   "outputs": [],
   "source": [
    "# Step 13. Replace the passing reading percentage for Thomas High School in the per_school_summary_df.\n",
    "per_school_summary_df.at['Thomas High School', '% Passing Reading'] = reading_passing_from_THS_non9thgraders_percent"
   ],
   "metadata": {
    "collapsed": false,
    "pycharm": {
     "name": "#%%\n"
    }
   }
  },
  {
   "cell_type": "code",
   "execution_count": 17,
   "outputs": [],
   "source": [
    "# Step 14. Replace the overall passing percentage for Thomas High School in the per_school_summary_df.\n",
    "per_school_summary_df.at['Thomas High School', '% Overall Passing'] = overall_passing_from_THS_non9thgraders_percent"
   ],
   "metadata": {
    "collapsed": false,
    "pycharm": {
     "name": "#%%\n"
    }
   }
  },
  {
   "cell_type": "code",
   "execution_count": 19,
   "outputs": [
    {
     "data": {
      "text/plain": "                      School Type  Total Students Total School Budget  \\\nBailey High School       District            4976       $3,124,928.00   \nCabrera High School       Charter            1858       $1,081,356.00   \nFigueroa High School     District            2949       $1,884,411.00   \nFord High School         District            2739       $1,763,916.00   \nGriffin High School       Charter            1468         $917,500.00   \nHernandez High School    District            4635       $3,022,020.00   \nHolden High School        Charter             427         $248,087.00   \nHuang High School        District            2917       $1,910,635.00   \nJohnson High School      District            4761       $3,094,650.00   \nPena High School          Charter             962         $585,858.00   \nRodriguez High School    District            3999       $2,547,363.00   \nShelton High School       Charter            1761       $1,056,600.00   \nThomas High School        Charter            1635       $1,043,130.00   \nWilson High School        Charter            2283       $1,319,574.00   \nWright High School        Charter            1800       $1,049,400.00   \n\n                      Per Student Budget  Average Math Score  \\\nBailey High School               $628.00           77.048432   \nCabrera High School              $582.00           83.061895   \nFigueroa High School             $639.00           76.711767   \nFord High School                 $644.00           77.102592   \nGriffin High School              $625.00           83.351499   \nHernandez High School            $652.00           77.289752   \nHolden High School               $581.00           83.803279   \nHuang High School                $655.00           76.629414   \nJohnson High School              $650.00           77.072464   \nPena High School                 $609.00           83.839917   \nRodriguez High School            $637.00           76.842711   \nShelton High School              $600.00           83.359455   \nThomas High School               $638.00           83.350937   \nWilson High School               $578.00           83.274201   \nWright High School               $583.00           83.682222   \n\n                       Average Reading Score  % Passing Math  \\\nBailey High School                 81.033963       66.680064   \nCabrera High School                83.975780       94.133477   \nFigueroa High School               81.158020       65.988471   \nFord High School                   80.746258       68.309602   \nGriffin High School                83.816757       93.392371   \nHernandez High School              80.934412       66.752967   \nHolden High School                 83.814988       92.505855   \nHuang High School                  81.182722       65.683922   \nJohnson High School                80.966394       66.057551   \nPena High School                   84.044699       94.594595   \nRodriguez High School              80.744686       66.366592   \nShelton High School                83.725724       93.867121   \nThomas High School                 83.896082       66.911315   \nWilson High School                 83.989488       93.867718   \nWright High School                 83.955000       93.333333   \n\n                       % Passing Reading  % Overall Passing  \nBailey High School             81.933280          54.642283  \nCabrera High School            97.039828          91.334769  \nFigueroa High School           80.739234          53.204476  \nFord High School               79.299014          54.289887  \nGriffin High School            97.138965          90.599455  \nHernandez High School          80.862999          53.527508  \nHolden High School             96.252927          89.227166  \nHuang High School              81.316421          53.513884  \nJohnson High School            81.222432          53.539172  \nPena High School               95.945946          90.540541  \nRodriguez High School          80.220055          52.988247  \nShelton High School            95.854628          89.892107  \nThomas High School             69.663609          65.076453  \nWilson High School             96.539641          90.582567  \nWright High School             96.611111          90.333333  ",
      "text/html": "<div>\n<style scoped>\n    .dataframe tbody tr th:only-of-type {\n        vertical-align: middle;\n    }\n\n    .dataframe tbody tr th {\n        vertical-align: top;\n    }\n\n    .dataframe thead th {\n        text-align: right;\n    }\n</style>\n<table border=\"1\" class=\"dataframe\">\n  <thead>\n    <tr style=\"text-align: right;\">\n      <th></th>\n      <th>School Type</th>\n      <th>Total Students</th>\n      <th>Total School Budget</th>\n      <th>Per Student Budget</th>\n      <th>Average Math Score</th>\n      <th>Average Reading Score</th>\n      <th>% Passing Math</th>\n      <th>% Passing Reading</th>\n      <th>% Overall Passing</th>\n    </tr>\n  </thead>\n  <tbody>\n    <tr>\n      <th>Bailey High School</th>\n      <td>District</td>\n      <td>4976</td>\n      <td>$3,124,928.00</td>\n      <td>$628.00</td>\n      <td>77.048432</td>\n      <td>81.033963</td>\n      <td>66.680064</td>\n      <td>81.933280</td>\n      <td>54.642283</td>\n    </tr>\n    <tr>\n      <th>Cabrera High School</th>\n      <td>Charter</td>\n      <td>1858</td>\n      <td>$1,081,356.00</td>\n      <td>$582.00</td>\n      <td>83.061895</td>\n      <td>83.975780</td>\n      <td>94.133477</td>\n      <td>97.039828</td>\n      <td>91.334769</td>\n    </tr>\n    <tr>\n      <th>Figueroa High School</th>\n      <td>District</td>\n      <td>2949</td>\n      <td>$1,884,411.00</td>\n      <td>$639.00</td>\n      <td>76.711767</td>\n      <td>81.158020</td>\n      <td>65.988471</td>\n      <td>80.739234</td>\n      <td>53.204476</td>\n    </tr>\n    <tr>\n      <th>Ford High School</th>\n      <td>District</td>\n      <td>2739</td>\n      <td>$1,763,916.00</td>\n      <td>$644.00</td>\n      <td>77.102592</td>\n      <td>80.746258</td>\n      <td>68.309602</td>\n      <td>79.299014</td>\n      <td>54.289887</td>\n    </tr>\n    <tr>\n      <th>Griffin High School</th>\n      <td>Charter</td>\n      <td>1468</td>\n      <td>$917,500.00</td>\n      <td>$625.00</td>\n      <td>83.351499</td>\n      <td>83.816757</td>\n      <td>93.392371</td>\n      <td>97.138965</td>\n      <td>90.599455</td>\n    </tr>\n    <tr>\n      <th>Hernandez High School</th>\n      <td>District</td>\n      <td>4635</td>\n      <td>$3,022,020.00</td>\n      <td>$652.00</td>\n      <td>77.289752</td>\n      <td>80.934412</td>\n      <td>66.752967</td>\n      <td>80.862999</td>\n      <td>53.527508</td>\n    </tr>\n    <tr>\n      <th>Holden High School</th>\n      <td>Charter</td>\n      <td>427</td>\n      <td>$248,087.00</td>\n      <td>$581.00</td>\n      <td>83.803279</td>\n      <td>83.814988</td>\n      <td>92.505855</td>\n      <td>96.252927</td>\n      <td>89.227166</td>\n    </tr>\n    <tr>\n      <th>Huang High School</th>\n      <td>District</td>\n      <td>2917</td>\n      <td>$1,910,635.00</td>\n      <td>$655.00</td>\n      <td>76.629414</td>\n      <td>81.182722</td>\n      <td>65.683922</td>\n      <td>81.316421</td>\n      <td>53.513884</td>\n    </tr>\n    <tr>\n      <th>Johnson High School</th>\n      <td>District</td>\n      <td>4761</td>\n      <td>$3,094,650.00</td>\n      <td>$650.00</td>\n      <td>77.072464</td>\n      <td>80.966394</td>\n      <td>66.057551</td>\n      <td>81.222432</td>\n      <td>53.539172</td>\n    </tr>\n    <tr>\n      <th>Pena High School</th>\n      <td>Charter</td>\n      <td>962</td>\n      <td>$585,858.00</td>\n      <td>$609.00</td>\n      <td>83.839917</td>\n      <td>84.044699</td>\n      <td>94.594595</td>\n      <td>95.945946</td>\n      <td>90.540541</td>\n    </tr>\n    <tr>\n      <th>Rodriguez High School</th>\n      <td>District</td>\n      <td>3999</td>\n      <td>$2,547,363.00</td>\n      <td>$637.00</td>\n      <td>76.842711</td>\n      <td>80.744686</td>\n      <td>66.366592</td>\n      <td>80.220055</td>\n      <td>52.988247</td>\n    </tr>\n    <tr>\n      <th>Shelton High School</th>\n      <td>Charter</td>\n      <td>1761</td>\n      <td>$1,056,600.00</td>\n      <td>$600.00</td>\n      <td>83.359455</td>\n      <td>83.725724</td>\n      <td>93.867121</td>\n      <td>95.854628</td>\n      <td>89.892107</td>\n    </tr>\n    <tr>\n      <th>Thomas High School</th>\n      <td>Charter</td>\n      <td>1635</td>\n      <td>$1,043,130.00</td>\n      <td>$638.00</td>\n      <td>83.350937</td>\n      <td>83.896082</td>\n      <td>66.911315</td>\n      <td>69.663609</td>\n      <td>65.076453</td>\n    </tr>\n    <tr>\n      <th>Wilson High School</th>\n      <td>Charter</td>\n      <td>2283</td>\n      <td>$1,319,574.00</td>\n      <td>$578.00</td>\n      <td>83.274201</td>\n      <td>83.989488</td>\n      <td>93.867718</td>\n      <td>96.539641</td>\n      <td>90.582567</td>\n    </tr>\n    <tr>\n      <th>Wright High School</th>\n      <td>Charter</td>\n      <td>1800</td>\n      <td>$1,049,400.00</td>\n      <td>$583.00</td>\n      <td>83.682222</td>\n      <td>83.955000</td>\n      <td>93.333333</td>\n      <td>96.611111</td>\n      <td>90.333333</td>\n    </tr>\n  </tbody>\n</table>\n</div>"
     },
     "execution_count": 19,
     "metadata": {},
     "output_type": "execute_result"
    }
   ],
   "source": [
    "per_school_summary_df"
   ],
   "metadata": {
    "collapsed": false,
    "pycharm": {
     "name": "#%%\n"
    }
   }
  },
  {
   "cell_type": "markdown",
   "source": [
    "## High and Low Performing Schools"
   ],
   "metadata": {
    "collapsed": false
   }
  },
  {
   "cell_type": "code",
   "execution_count": 20,
   "outputs": [
    {
     "data": {
      "text/plain": "                    School Type  Total Students Total School Budget  \\\nCabrera High School     Charter            1858       $1,081,356.00   \nGriffin High School     Charter            1468         $917,500.00   \nWilson High School      Charter            2283       $1,319,574.00   \nPena High School        Charter             962         $585,858.00   \nWright High School      Charter            1800       $1,049,400.00   \n\n                    Per Student Budget  Average Math Score  \\\nCabrera High School            $582.00           83.061895   \nGriffin High School            $625.00           83.351499   \nWilson High School             $578.00           83.274201   \nPena High School               $609.00           83.839917   \nWright High School             $583.00           83.682222   \n\n                     Average Reading Score  % Passing Math  % Passing Reading  \\\nCabrera High School              83.975780       94.133477          97.039828   \nGriffin High School              83.816757       93.392371          97.138965   \nWilson High School               83.989488       93.867718          96.539641   \nPena High School                 84.044699       94.594595          95.945946   \nWright High School               83.955000       93.333333          96.611111   \n\n                     % Overall Passing  \nCabrera High School          91.334769  \nGriffin High School          90.599455  \nWilson High School           90.582567  \nPena High School             90.540541  \nWright High School           90.333333  ",
      "text/html": "<div>\n<style scoped>\n    .dataframe tbody tr th:only-of-type {\n        vertical-align: middle;\n    }\n\n    .dataframe tbody tr th {\n        vertical-align: top;\n    }\n\n    .dataframe thead th {\n        text-align: right;\n    }\n</style>\n<table border=\"1\" class=\"dataframe\">\n  <thead>\n    <tr style=\"text-align: right;\">\n      <th></th>\n      <th>School Type</th>\n      <th>Total Students</th>\n      <th>Total School Budget</th>\n      <th>Per Student Budget</th>\n      <th>Average Math Score</th>\n      <th>Average Reading Score</th>\n      <th>% Passing Math</th>\n      <th>% Passing Reading</th>\n      <th>% Overall Passing</th>\n    </tr>\n  </thead>\n  <tbody>\n    <tr>\n      <th>Cabrera High School</th>\n      <td>Charter</td>\n      <td>1858</td>\n      <td>$1,081,356.00</td>\n      <td>$582.00</td>\n      <td>83.061895</td>\n      <td>83.975780</td>\n      <td>94.133477</td>\n      <td>97.039828</td>\n      <td>91.334769</td>\n    </tr>\n    <tr>\n      <th>Griffin High School</th>\n      <td>Charter</td>\n      <td>1468</td>\n      <td>$917,500.00</td>\n      <td>$625.00</td>\n      <td>83.351499</td>\n      <td>83.816757</td>\n      <td>93.392371</td>\n      <td>97.138965</td>\n      <td>90.599455</td>\n    </tr>\n    <tr>\n      <th>Wilson High School</th>\n      <td>Charter</td>\n      <td>2283</td>\n      <td>$1,319,574.00</td>\n      <td>$578.00</td>\n      <td>83.274201</td>\n      <td>83.989488</td>\n      <td>93.867718</td>\n      <td>96.539641</td>\n      <td>90.582567</td>\n    </tr>\n    <tr>\n      <th>Pena High School</th>\n      <td>Charter</td>\n      <td>962</td>\n      <td>$585,858.00</td>\n      <td>$609.00</td>\n      <td>83.839917</td>\n      <td>84.044699</td>\n      <td>94.594595</td>\n      <td>95.945946</td>\n      <td>90.540541</td>\n    </tr>\n    <tr>\n      <th>Wright High School</th>\n      <td>Charter</td>\n      <td>1800</td>\n      <td>$1,049,400.00</td>\n      <td>$583.00</td>\n      <td>83.682222</td>\n      <td>83.955000</td>\n      <td>93.333333</td>\n      <td>96.611111</td>\n      <td>90.333333</td>\n    </tr>\n  </tbody>\n</table>\n</div>"
     },
     "execution_count": 20,
     "metadata": {},
     "output_type": "execute_result"
    }
   ],
   "source": [
    "# Sort and show top five schools.\n",
    "top_schools = per_school_summary_df.sort_values([\"% Overall Passing\"], ascending=False)\n",
    "top_schools.head()"
   ],
   "metadata": {
    "collapsed": false,
    "pycharm": {
     "name": "#%%\n"
    }
   }
  },
  {
   "cell_type": "code",
   "execution_count": 21,
   "outputs": [
    {
     "data": {
      "text/plain": "                      School Type  Total Students Total School Budget  \\\nThomas High School        Charter            1635       $1,043,130.00   \nRodriguez High School    District            3999       $2,547,363.00   \nFigueroa High School     District            2949       $1,884,411.00   \nHuang High School        District            2917       $1,910,635.00   \nHernandez High School    District            4635       $3,022,020.00   \n\n                      Per Student Budget  Average Math Score  \\\nThomas High School               $638.00           83.350937   \nRodriguez High School            $637.00           76.842711   \nFigueroa High School             $639.00           76.711767   \nHuang High School                $655.00           76.629414   \nHernandez High School            $652.00           77.289752   \n\n                       Average Reading Score  % Passing Math  \\\nThomas High School                 83.896082        2.826216   \nRodriguez High School              80.744686       66.366592   \nFigueroa High School               81.158020       65.988471   \nHuang High School                  81.182722       65.683922   \nHernandez High School              80.934412       66.752967   \n\n                       % Passing Reading  % Overall Passing  \nThomas High School              2.942468           2.748715  \nRodriguez High School          80.220055          52.988247  \nFigueroa High School           80.739234          53.204476  \nHuang High School              81.316421          53.513884  \nHernandez High School          80.862999          53.527508  ",
      "text/html": "<div>\n<style scoped>\n    .dataframe tbody tr th:only-of-type {\n        vertical-align: middle;\n    }\n\n    .dataframe tbody tr th {\n        vertical-align: top;\n    }\n\n    .dataframe thead th {\n        text-align: right;\n    }\n</style>\n<table border=\"1\" class=\"dataframe\">\n  <thead>\n    <tr style=\"text-align: right;\">\n      <th></th>\n      <th>School Type</th>\n      <th>Total Students</th>\n      <th>Total School Budget</th>\n      <th>Per Student Budget</th>\n      <th>Average Math Score</th>\n      <th>Average Reading Score</th>\n      <th>% Passing Math</th>\n      <th>% Passing Reading</th>\n      <th>% Overall Passing</th>\n    </tr>\n  </thead>\n  <tbody>\n    <tr>\n      <th>Thomas High School</th>\n      <td>Charter</td>\n      <td>1635</td>\n      <td>$1,043,130.00</td>\n      <td>$638.00</td>\n      <td>83.350937</td>\n      <td>83.896082</td>\n      <td>2.826216</td>\n      <td>2.942468</td>\n      <td>2.748715</td>\n    </tr>\n    <tr>\n      <th>Rodriguez High School</th>\n      <td>District</td>\n      <td>3999</td>\n      <td>$2,547,363.00</td>\n      <td>$637.00</td>\n      <td>76.842711</td>\n      <td>80.744686</td>\n      <td>66.366592</td>\n      <td>80.220055</td>\n      <td>52.988247</td>\n    </tr>\n    <tr>\n      <th>Figueroa High School</th>\n      <td>District</td>\n      <td>2949</td>\n      <td>$1,884,411.00</td>\n      <td>$639.00</td>\n      <td>76.711767</td>\n      <td>81.158020</td>\n      <td>65.988471</td>\n      <td>80.739234</td>\n      <td>53.204476</td>\n    </tr>\n    <tr>\n      <th>Huang High School</th>\n      <td>District</td>\n      <td>2917</td>\n      <td>$1,910,635.00</td>\n      <td>$655.00</td>\n      <td>76.629414</td>\n      <td>81.182722</td>\n      <td>65.683922</td>\n      <td>81.316421</td>\n      <td>53.513884</td>\n    </tr>\n    <tr>\n      <th>Hernandez High School</th>\n      <td>District</td>\n      <td>4635</td>\n      <td>$3,022,020.00</td>\n      <td>$652.00</td>\n      <td>77.289752</td>\n      <td>80.934412</td>\n      <td>66.752967</td>\n      <td>80.862999</td>\n      <td>53.527508</td>\n    </tr>\n  </tbody>\n</table>\n</div>"
     },
     "execution_count": 21,
     "metadata": {},
     "output_type": "execute_result"
    }
   ],
   "source": [
    "# Sort and show bottom five schools.\n",
    "bottom_schools = per_school_summary_df.sort_values([\"% Overall Passing\"], ascending=True)\n",
    "bottom_schools.head()"
   ],
   "metadata": {
    "collapsed": false,
    "pycharm": {
     "name": "#%%\n"
    }
   }
  },
  {
   "cell_type": "markdown",
   "source": [
    "## Math and Reading Scores by Grade"
   ],
   "metadata": {
    "collapsed": false
   }
  },
  {
   "cell_type": "code",
   "execution_count": 18,
   "outputs": [
    {
     "data": {
      "text/plain": "                        9th  10th  11th  12th\nBailey High School     77.1  77.0  77.5  76.5\nCabrera High School    83.1  83.2  82.8  83.3\nFigueroa High School   76.4  76.5  76.9  77.2\nFord High School       77.4  77.7  76.9  76.2\nGriffin High School    82.0  84.2  83.8  83.4\nHernandez High School  77.4  77.3  77.1  77.2\nHolden High School     83.8  83.4  85.0  82.9\nHuang High School      77.0  75.9  76.4  77.2\nJohnson High School    77.2  76.7  77.5  76.9\nPena High School       83.6  83.4  84.3  84.1\nRodriguez High School  76.9  76.6  76.4  77.7\nShelton High School    83.4  82.9  83.4  83.8\nThomas High School      nan  83.1  83.5  83.5\nWilson High School     83.1  83.7  83.2  83.0\nWright High School     83.3  84.0  83.8  83.6",
      "text/html": "<div>\n<style scoped>\n    .dataframe tbody tr th:only-of-type {\n        vertical-align: middle;\n    }\n\n    .dataframe tbody tr th {\n        vertical-align: top;\n    }\n\n    .dataframe thead th {\n        text-align: right;\n    }\n</style>\n<table border=\"1\" class=\"dataframe\">\n  <thead>\n    <tr style=\"text-align: right;\">\n      <th></th>\n      <th>9th</th>\n      <th>10th</th>\n      <th>11th</th>\n      <th>12th</th>\n    </tr>\n  </thead>\n  <tbody>\n    <tr>\n      <th>Bailey High School</th>\n      <td>77.1</td>\n      <td>77.0</td>\n      <td>77.5</td>\n      <td>76.5</td>\n    </tr>\n    <tr>\n      <th>Cabrera High School</th>\n      <td>83.1</td>\n      <td>83.2</td>\n      <td>82.8</td>\n      <td>83.3</td>\n    </tr>\n    <tr>\n      <th>Figueroa High School</th>\n      <td>76.4</td>\n      <td>76.5</td>\n      <td>76.9</td>\n      <td>77.2</td>\n    </tr>\n    <tr>\n      <th>Ford High School</th>\n      <td>77.4</td>\n      <td>77.7</td>\n      <td>76.9</td>\n      <td>76.2</td>\n    </tr>\n    <tr>\n      <th>Griffin High School</th>\n      <td>82.0</td>\n      <td>84.2</td>\n      <td>83.8</td>\n      <td>83.4</td>\n    </tr>\n    <tr>\n      <th>Hernandez High School</th>\n      <td>77.4</td>\n      <td>77.3</td>\n      <td>77.1</td>\n      <td>77.2</td>\n    </tr>\n    <tr>\n      <th>Holden High School</th>\n      <td>83.8</td>\n      <td>83.4</td>\n      <td>85.0</td>\n      <td>82.9</td>\n    </tr>\n    <tr>\n      <th>Huang High School</th>\n      <td>77.0</td>\n      <td>75.9</td>\n      <td>76.4</td>\n      <td>77.2</td>\n    </tr>\n    <tr>\n      <th>Johnson High School</th>\n      <td>77.2</td>\n      <td>76.7</td>\n      <td>77.5</td>\n      <td>76.9</td>\n    </tr>\n    <tr>\n      <th>Pena High School</th>\n      <td>83.6</td>\n      <td>83.4</td>\n      <td>84.3</td>\n      <td>84.1</td>\n    </tr>\n    <tr>\n      <th>Rodriguez High School</th>\n      <td>76.9</td>\n      <td>76.6</td>\n      <td>76.4</td>\n      <td>77.7</td>\n    </tr>\n    <tr>\n      <th>Shelton High School</th>\n      <td>83.4</td>\n      <td>82.9</td>\n      <td>83.4</td>\n      <td>83.8</td>\n    </tr>\n    <tr>\n      <th>Thomas High School</th>\n      <td>nan</td>\n      <td>83.1</td>\n      <td>83.5</td>\n      <td>83.5</td>\n    </tr>\n    <tr>\n      <th>Wilson High School</th>\n      <td>83.1</td>\n      <td>83.7</td>\n      <td>83.2</td>\n      <td>83.0</td>\n    </tr>\n    <tr>\n      <th>Wright High School</th>\n      <td>83.3</td>\n      <td>84.0</td>\n      <td>83.8</td>\n      <td>83.6</td>\n    </tr>\n  </tbody>\n</table>\n</div>"
     },
     "execution_count": 18,
     "metadata": {},
     "output_type": "execute_result"
    }
   ],
   "source": [
    "# Create a DataFrame of scores by grade level using conditionals.\n",
    "ninth_graders = school_data_complete_df[(school_data_complete_df[\"grade\"] == \"9th\")]\n",
    "tenth_graders = school_data_complete_df[(school_data_complete_df[\"grade\"] == \"10th\")]\n",
    "eleventh_graders = school_data_complete_df[(school_data_complete_df[\"grade\"] == \"11th\")]\n",
    "twelfth_graders = school_data_complete_df[(school_data_complete_df[\"grade\"] == \"12th\")]\n",
    "\n",
    "# Group each grade level DataFrame by the school name for the average math score.\n",
    "ninth_grade_math_scores = ninth_graders.groupby([\"school_name\"]).mean()[\"math_score\"]\n",
    "tenth_grade_math_scores = tenth_graders.groupby([\"school_name\"]).mean()[\"math_score\"]\n",
    "eleventh_grade_math_scores = eleventh_graders.groupby([\"school_name\"]).mean()[\"math_score\"]\n",
    "twelfth_grade_math_scores = twelfth_graders.groupby([\"school_name\"]).mean()[\"math_score\"]\n",
    "\n",
    "# Group each grade level DataFrame by the school name for the average reading score.\n",
    "ninth_grade_reading_scores = ninth_graders.groupby([\"school_name\"]).mean()[\"reading_score\"]\n",
    "tenth_grade_reading_scores = tenth_graders.groupby([\"school_name\"]).mean()[\"reading_score\"]\n",
    "eleventh_grade_reading_scores = eleventh_graders.groupby([\"school_name\"]).mean()[\"reading_score\"]\n",
    "twelfth_grade_reading_scores = twelfth_graders.groupby([\"school_name\"]).mean()[\"reading_score\"]\n",
    "\n",
    "# Combine each grade level Series for average math scores into a single DataFrame.\n",
    "math_scores_by_grade = pd.DataFrame({\n",
    "               \"9th\": ninth_grade_math_scores,\n",
    "               \"10th\": tenth_grade_math_scores,\n",
    "               \"11th\": eleventh_grade_math_scores,\n",
    "               \"12th\": twelfth_grade_math_scores})\n",
    "\n",
    "# Combine each grade level Series for average reading scores into a single DataFrame.\n",
    "reading_scores_by_grade = pd.DataFrame({\n",
    "              \"9th\": ninth_grade_reading_scores,\n",
    "              \"10th\": tenth_grade_reading_scores,\n",
    "              \"11th\": eleventh_grade_reading_scores,\n",
    "              \"12th\": twelfth_grade_reading_scores})\n",
    "\n",
    "# Format each grade column.\n",
    "math_scores_by_grade[\"9th\"] = math_scores_by_grade[\"9th\"].map(\"{:.1f}\".format)\n",
    "math_scores_by_grade[\"10th\"] = math_scores_by_grade[\"10th\"].map(\"{:.1f}\".format)\n",
    "math_scores_by_grade[\"11th\"] = math_scores_by_grade[\"11th\"].map(\"{:.1f}\".format)\n",
    "math_scores_by_grade[\"12th\"] = math_scores_by_grade[\"12th\"].map(\"{:.1f}\".format)\n",
    "\n",
    "# Make sure the columns are in the correct order.\n",
    "math_scores_by_grade = math_scores_by_grade[\n",
    "             [\"9th\", \"10th\", \"11th\", \"12th\"]]\n",
    "\n",
    "# Remove the index name.\n",
    "math_scores_by_grade.index.name = None\n",
    "\n",
    "# Display the DataFrame.\n",
    "math_scores_by_grade"
   ],
   "metadata": {
    "collapsed": false,
    "pycharm": {
     "name": "#%%\n"
    }
   }
  }
 ],
 "metadata": {
  "kernelspec": {
   "name": "pythondata",
   "language": "python",
   "display_name": "PythonData"
  },
  "language_info": {
   "codemirror_mode": {
    "name": "ipython",
    "version": 2
   },
   "file_extension": ".py",
   "mimetype": "text/x-python",
   "name": "python",
   "nbconvert_exporter": "python",
   "pygments_lexer": "ipython2",
   "version": "2.7.6"
  }
 },
 "nbformat": 4,
 "nbformat_minor": 0
}